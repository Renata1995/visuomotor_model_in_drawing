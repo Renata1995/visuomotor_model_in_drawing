{
 "cells": [
  {
   "cell_type": "markdown",
   "metadata": {},
   "source": [
    "### This program calculates the spaial error and shape error between a reference image and a drawing\n",
    "- Shape Error: Measured by MSE\n",
    "- Spatial Error: Rotation, Translation, Scaling"
   ]
  },
  {
   "cell_type": "markdown",
   "metadata": {},
   "source": [
    "### Basic Setup"
   ]
  },
  {
   "cell_type": "markdown",
   "metadata": {},
   "source": [
    "#### Load dependencies and define directory hierarchy"
   ]
  },
  {
   "cell_type": "code",
   "execution_count": 1,
   "metadata": {},
   "outputs": [],
   "source": [
    "import sys\n",
    "import os\n",
    "\n",
    "import pymongo as pm ## first establish ssh tunnel to server where database is running\n",
    "import numpy as np\n",
    "from numpy import *\n",
    "import cv2\n",
    "import pandas as pd\n",
    "import svg_distance_helpers as rsh\n",
    "\n",
    "import affine_registration_2d as ar"
   ]
  },
  {
   "cell_type": "markdown",
   "metadata": {},
   "source": [
    "#### File hierarchy"
   ]
  },
  {
   "cell_type": "code",
   "execution_count": 6,
   "metadata": {},
   "outputs": [],
   "source": [
    "analysis_dir = os.getcwd()\n",
    "iteration_name = 'cdm_run_v5'\n",
    "\n",
    "ref_dir = os.path.join(analysis_dir, 'tracing_ref_400')\n",
    "data_dir = os.path.join(analysis_dir, 'tracing_{}'.format(iteration_name))\n",
    "\n",
    "loss = 'ncc'\n",
    "trans_dir = os.path.join(analysis_dir, 'transformed_{}'.format(loss)) # store transformed images\n",
    "if not os.path.exists(trans_dir):\n",
    "    os.mkdir(trans_dir)\n",
    "\n",
    "canvas_side = 400 # image size\n",
    "tracing = ['square','shape']\n",
    "\n",
    "data_output = 'kiddraw_tracing_{}.csv'.format(iteration_name, loss)"
   ]
  },
  {
   "cell_type": "markdown",
   "metadata": {},
   "source": [
    "#### Check how many items get transformed"
   ]
  },
  {
   "cell_type": "code",
   "execution_count": null,
   "metadata": {},
   "outputs": [],
   "source": [
    "# get data from csv file\n",
    "data = pd.read_csv(data_output)\n",
    "try:\n",
    "    data = data.drop(\"Unnamed: 0\", axis=1)\n",
    "except:\n",
    "    print \"Already droped\"\n",
    "print data.count()"
   ]
  },
  {
   "cell_type": "markdown",
   "metadata": {},
   "source": [
    "#### Generate binary reference shapes"
   ]
  },
  {
   "cell_type": "code",
   "execution_count": 7,
   "metadata": {},
   "outputs": [],
   "source": [
    "really_run_this = 0\n",
    "ref_path = []\n",
    "\n",
    "if really_run_this:\n",
    "    for t in tracing:\n",
    "        fname = os.path.join(ref_dir, '{}.png'.format(t))\n",
    "        img_ref = cv2.imread(fname)\n",
    "        img_ref = rsh.color_to_num(img_ref, threshold=0, white_background=False)\n",
    "        cv2.imwrite(ofname, 255-img_ref*255)\n",
    "\n",
    "for t in tracing:\n",
    "    ofname = os.path.join(ref_dir, '{}_ref.png'.format(t))\n",
    "    ref_path.append(ofname)"
   ]
  },
  {
   "cell_type": "markdown",
   "metadata": {},
   "source": [
    "### Calculate Shape Error and Spatial Error"
   ]
  },
  {
   "cell_type": "code",
   "execution_count": 8,
   "metadata": {},
   "outputs": [],
   "source": [
    "reload(ar)\n",
    "\n",
    "session_id = []\n",
    "age = []\n",
    "category =[] \n",
    "pre_tran = []\n",
    "post_tran = []\n",
    "rotate = []\n",
    "translate = []\n",
    "scale = []\n",
    "has_ref = []"
   ]
  },
  {
   "cell_type": "code",
   "execution_count": 9,
   "metadata": {},
   "outputs": [],
   "source": [
    "for ti, t in enumerate(tracing):\n",
    "    t_dir = os.path.join(data_dir, t)\n",
    "    \n",
    "    for d in os.listdir(t_dir)[:2]:\n",
    "        if not d.endswith('.png'):\n",
    "            continue\n",
    "\n",
    "        child_info = d.split('_')\n",
    "        c_age = int(child_info[0].replace('age',''))\n",
    "        c_sessionid = '_'.join([child_info[1], child_info[2], child_info[3]])\n",
    "\n",
    "        img_draw = os.path.join(t_dir, d)\n",
    "\n",
    "        if os.path.exists(img_draw):\n",
    "            img_ref = ref_path[ti]\n",
    "            output_path = os.path.join(trans_dir, '{}_{}_wrap.png'.format(c_sessionid, t))\n",
    "            init_loss, final_loss, ro, tran, s, warped = ar.affine_reg(img_draw, img_ref, output_path)\n",
    "\n",
    "            # prepare the dataframe\n",
    "            age.append(c_age)\n",
    "            session_id.append(c_sessionid)\n",
    "            category.append(t.replace('this ', ''))\n",
    "            pre_tran.append(init_loss)\n",
    "            post_tran.append(final_loss)\n",
    "            rotate.append(ro)\n",
    "            translate.append(tran)\n",
    "            scale.append(s)\n",
    "            \n",
    "            if t.startswith('this'):\n",
    "                has_ref.append(True)\n",
    "            else:\n",
    "                has_ref.append(False)"
   ]
  },
  {
   "cell_type": "code",
   "execution_count": 11,
   "metadata": {},
   "outputs": [],
   "source": [
    "really_run_this = 1 \n",
    "## compile data\n",
    "if really_run_this:\n",
    "    data = pd.DataFrame([session_id, age, category, pre_tran, post_tran, rotate, translate, scale, has_ref])\n",
    "    data = data.transpose()\n",
    "    data.columns = ['session_id','age', 'category', 'pre_tran', 'post_tran', 'rotate', 'translate', 'scale', 'has_ref']\n",
    "## save out the data\n",
    "data.to_csv(data_output)"
   ]
  },
  {
   "cell_type": "code",
   "execution_count": null,
   "metadata": {},
   "outputs": [],
   "source": []
  }
 ],
 "metadata": {
  "kernelspec": {
   "display_name": "Python 2",
   "language": "python",
   "name": "python2"
  },
  "language_info": {
   "codemirror_mode": {
    "name": "ipython",
    "version": 2
   },
   "file_extension": ".py",
   "mimetype": "text/x-python",
   "name": "python",
   "nbconvert_exporter": "python",
   "pygments_lexer": "ipython2",
   "version": "2.7.17"
  }
 },
 "nbformat": 4,
 "nbformat_minor": 2
}
