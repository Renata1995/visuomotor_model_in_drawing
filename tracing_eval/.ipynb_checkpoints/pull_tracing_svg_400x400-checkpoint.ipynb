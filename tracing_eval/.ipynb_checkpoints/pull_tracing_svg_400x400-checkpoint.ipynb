{
 "cells": [
  {
   "cell_type": "code",
   "execution_count": 2,
   "metadata": {},
   "outputs": [],
   "source": [
    "import os\n",
    "import urllib, cStringIO\n",
    "\n",
    "import pymongo as pm\n",
    "\n",
    "import matplotlib\n",
    "from matplotlib import pylab, mlab, pyplot\n",
    "%matplotlib inline\n",
    "from IPython.core.pylabtools import figsize, getfigs\n",
    "plt = pyplot\n",
    "import seaborn as sns\n",
    "sns.set_context('poster')\n",
    "sns.set_style('white')\n",
    "\n",
    "import numpy as np\n",
    "from __future__ import division\n",
    "import scipy.stats as stats\n",
    "import pandas as pd\n",
    "import json\n",
    "import re\n",
    "\n",
    "from PIL import Image\n",
    "import base64\n",
    "import datetime\n",
    "import svg_render_helpers as rdh"
   ]
  },
  {
   "cell_type": "markdown",
   "metadata": {},
   "source": [
    "### file hierarchy and database connection vars"
   ]
  },
  {
   "cell_type": "code",
   "execution_count": 9,
   "metadata": {},
   "outputs": [],
   "source": [
    "# set vars \n",
    "auth = pd.read_csv('auth.txt', header = None) # this auth.txt file contains the password for the sketchloop user\n",
    "pswd = auth.values[0][0]\n",
    "\n",
    "# have to fix this to be able to analyze from local\n",
    "import pymongo as pm\n",
    "conn = pm.MongoClient('mongodb://stanford:' + pswd + '@127.0.0.1')\n",
    "db = conn['kiddraw']"
   ]
  },
  {
   "cell_type": "markdown",
   "metadata": {},
   "source": [
    "### Render out images from museum station -- takes a *long* time."
   ]
  },
  {
   "cell_type": "markdown",
   "metadata": {},
   "source": [
    "#### Grab some subset of desired sketches to render"
   ]
  },
  {
   "cell_type": "code",
   "execution_count": 10,
   "metadata": {},
   "outputs": [
    {
     "name": "stdout",
     "output_type": "stream",
     "text": [
      "we have 2209 unique kids\n"
     ]
    }
   ],
   "source": [
    "iteration_name = 'cdm_run_v5'\n",
    "this_collection = db[iteration_name]\n",
    "\n",
    "# sessions_to_render =  this_collection.find({'$and': [{'dataType':'finalImage'}]}).distinct('sessionId')\n",
    "sessions_to_render = this_collection.find({'category':'this square'}).distinct('sessionId')\n",
    "print('we have {} unique kids'.format(len(sessions_to_render)))\n"
   ]
  },
  {
   "cell_type": "markdown",
   "metadata": {},
   "source": [
    "#### And where are we rendering these skeches?"
   ]
  },
  {
   "cell_type": "code",
   "execution_count": 11,
   "metadata": {},
   "outputs": [],
   "source": [
    "## And where are we rendering these sketches?\n",
    "analysis_dir = os.getcwd()\n",
    "sketch_dir = os.path.join(analysis_dir,'tracing_{}'.format(iteration_name))\n",
    "if not os.path.exists(sketch_dir):\n",
    "    os.makedirs(sketch_dir)"
   ]
  },
  {
   "cell_type": "markdown",
   "metadata": {},
   "source": [
    "#### Open up variables for csv file writing"
   ]
  },
  {
   "cell_type": "code",
   "execution_count": 12,
   "metadata": {},
   "outputs": [],
   "source": [
    "# basic descriptors\n",
    "session_id = []; trial_num = []; category = []; age = []; filename = []\n",
    "\n",
    "# stroke times and duration\n",
    "svg = []; svg_times = []; draw_duration_old = []; draw_duration_new = []\n",
    "\n",
    "# drawing usage stats\n",
    "num_strokes = []\n",
    "mean_intensity = []\n",
    "bounding_box = []\n",
    "\n",
    "# trial time and duration\n",
    "start_time = []; submit_time = []; trial_duration = []\n",
    "\n",
    "# other timing variables\n",
    "submit_date = []\n",
    "submit_date_readable = []\n",
    "\n",
    "def load_image_data(imgData,imsize):\n",
    "    filestr = base64.b64decode(imgData)\n",
    "    fname = os.path.join('sketch.png')\n",
    "    with open(fname, \"wb\") as fh:\n",
    "        fh.write(imgData.decode('base64'))\n",
    "    im = Image.open(fname).resize((imsize,imsize))\n",
    "    _im = np.array(im)\n",
    "    return(_im)\n",
    "\n",
    "def get_mean_intensity(img,imsize):\n",
    "    thresh = 250\n",
    "    numpix = imsize**2\n",
    "    mean_intensity = len(np.where(img[:,:,3].flatten()>thresh)[0])/numpix\n",
    "    return mean_intensity\n",
    "    \n",
    "def get_bounding_box(img):\n",
    "    bounding_box = None\n",
    "    try:\n",
    "        rows = np.any(img, axis=1)\n",
    "        cols = np.any(img, axis=0)\n",
    "        rmin, rmax = np.where(rows)[0][[0, -1]]\n",
    "        cmin, cmax = np.where(cols)[0][[0, -1]]\n",
    "        bounding_box = tuple((rmin, rmax, cmin, cmax))\n",
    "    except Exception as e:\n",
    "        print 'Oops, something went wrong! Here is the error:'  \n",
    "        print e\n",
    "        pass\n",
    "                \n",
    "    return bounding_box"
   ]
  },
  {
   "cell_type": "markdown",
   "metadata": {},
   "source": [
    "#### Render out sketches and save descriptives for subset\n",
    "Be careful with canvas_size and imsize"
   ]
  },
  {
   "cell_type": "code",
   "execution_count": 19,
   "metadata": {
    "scrolled": true
   },
   "outputs": [],
   "source": [
    "reload(rdh)\n",
    "really_run_this=1\n",
    "tracing = ['square', 'shape', 'this sqaure']\n",
    "canvas_size = 809\n",
    "imsize = 400\n",
    "\n",
    "if really_run_this:\n",
    "   \n",
    "    for s in sessions_to_render[:5]:\n",
    "        image_recs = this_collection.find({'$and': [{'sessionId':s}, {'dataType':'finalImage'}, {'category':{\"$in\": tracing}}]}).sort('startTrialTime')    \n",
    "\n",
    "        ## get survey data for this kid (if it exists), use to exclude\n",
    "        survey_session = this_collection.find({'$and': [{'dataType':'survey'},{'sessionId':s}]})\n",
    "        if survey_session.count()>0:\n",
    "            interference = (survey_session[0]['other_drew']==True | survey_session[0]['parent_drew']==True)\n",
    "        else:\n",
    "            interference = False\n",
    "\n",
    "        if interference==True:\n",
    "            interferenceCount = interferenceCount+1\n",
    "            if np.mod(interferenceCount,10)==0:\n",
    "                print('excluded {} kids for reported inference...'.format(interferenceCount))\n",
    "\n",
    "        if interference==False: ## if they made it past the practice trials & no reported interference\n",
    "            for imrec in image_recs:                                                            \n",
    "                category_dir = os.path.join(sketch_dir,imrec['category'])\n",
    "                if not os.path.exists(category_dir):\n",
    "                    os.makedirs(category_dir)\n",
    "                \n",
    "                stroke_recs = this_collection.find({'$and': [{'sessionId':s}, \n",
    "                                          {'dataType':'stroke'},\n",
    "                                          {'category': imrec['category']}]}).sort('startTrialTime')   \n",
    "                _svg = [] # this keeps track of the strokes from THIS final image\n",
    "                for strec in stroke_recs:\n",
    "                    _svg.append(strec['svg'])\n",
    "\n",
    "                # don't do adults for now or blank images\n",
    "                if stroke_recs.count()>0 and stroke_recs.count()<50 and imrec['age']!='adult': \n",
    "                    # render out images\n",
    "                    try:\n",
    "\n",
    "                        ## now get me some verts and codes!\n",
    "                        Verts, Codes = rdh.get_verts_and_codes(_svg)\n",
    "\n",
    "                        outpath = os.path.join(category_dir,'{}_{}_{}.png'.format(imrec['age'],imrec['sessionId'],imrec['category']))\n",
    "                        filename.append(outpath)\n",
    "\n",
    "                        ## now render out your cumulative sketches and save out as pngs!\n",
    "                        rdh.render_and_save(Verts,\n",
    "                                        Codes,\n",
    "                                        outpath,\n",
    "                                        line_width=5,\n",
    "                                        imsize=imsize,\n",
    "                                        canvas_size=canvas_size)\n",
    "\n",
    "                    except Exception as e:\n",
    "                        print 'Oops, something went wrong! Here is the error:'  \n",
    "                        print e\n",
    "                        pass"
   ]
  },
  {
   "cell_type": "code",
   "execution_count": null,
   "metadata": {},
   "outputs": [],
   "source": []
  }
 ],
 "metadata": {
  "kernelspec": {
   "display_name": "Python 2",
   "language": "python",
   "name": "python2"
  },
  "language_info": {
   "codemirror_mode": {
    "name": "ipython",
    "version": 2
   },
   "file_extension": ".py",
   "mimetype": "text/x-python",
   "name": "python",
   "nbconvert_exporter": "python",
   "pygments_lexer": "ipython2",
   "version": "2.7.17"
  }
 },
 "nbformat": 4,
 "nbformat_minor": 1
}
